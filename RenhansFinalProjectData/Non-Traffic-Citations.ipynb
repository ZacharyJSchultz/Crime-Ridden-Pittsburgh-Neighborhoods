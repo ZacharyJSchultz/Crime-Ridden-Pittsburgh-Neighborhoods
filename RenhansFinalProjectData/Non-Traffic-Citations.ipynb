{
 "cells": [
  {
   "cell_type": "markdown",
   "metadata": {},
   "source": [
    "# Non-Traffic Citations\n",
    "## Prepared by: Renhan Xu"
   ]
  },
  {
   "cell_type": "markdown",
   "metadata": {},
   "source": [
    "----\n",
    "### Package Import\n",
    "To start this notebook, I am going to import pandas, as well as other packages I will need for this project."
   ]
  },
  {
   "cell_type": "code",
   "execution_count": 1,
   "metadata": {},
   "outputs": [],
   "source": [
    "# Import packages\n",
    "import operator\n",
    "import pandas as pd\n",
    "import numpy as np\n",
    "%matplotlib inline\n",
    "import matplotlib.pyplot as plt"
   ]
  },
  {
   "cell_type": "markdown",
   "metadata": {},
   "source": [
    "----\n",
    "### Loading the Data\n",
    "Next, I am going to load the data."
   ]
  },
  {
   "cell_type": "code",
   "execution_count": 2,
   "metadata": {},
   "outputs": [
    {
     "data": {
      "text/html": [
       "<div>\n",
       "<style scoped>\n",
       "    .dataframe tbody tr th:only-of-type {\n",
       "        vertical-align: middle;\n",
       "    }\n",
       "\n",
       "    .dataframe tbody tr th {\n",
       "        vertical-align: top;\n",
       "    }\n",
       "\n",
       "    .dataframe thead th {\n",
       "        text-align: right;\n",
       "    }\n",
       "</style>\n",
       "<table border=\"1\" class=\"dataframe\">\n",
       "  <thead>\n",
       "    <tr style=\"text-align: right;\">\n",
       "      <th></th>\n",
       "      <th>PK</th>\n",
       "      <th>CCR</th>\n",
       "      <th>GENDER</th>\n",
       "      <th>RACE</th>\n",
       "      <th>AGE</th>\n",
       "      <th>CITEDTIME</th>\n",
       "      <th>INCIDENTLOCATION</th>\n",
       "      <th>OFFENSES</th>\n",
       "      <th>NEIGHBORHOOD</th>\n",
       "      <th>ZONE</th>\n",
       "      <th>INCIDENTTRACT</th>\n",
       "      <th>COUNCIL_DISTRICT</th>\n",
       "      <th>PUBLIC_WORKS_DIVISION</th>\n",
       "      <th>X</th>\n",
       "      <th>Y</th>\n",
       "    </tr>\n",
       "  </thead>\n",
       "  <tbody>\n",
       "    <tr>\n",
       "      <th>0</th>\n",
       "      <td>1078081</td>\n",
       "      <td>16157849</td>\n",
       "      <td>M</td>\n",
       "      <td>B</td>\n",
       "      <td>29.0</td>\n",
       "      <td>2016-08-22T23:45:00</td>\n",
       "      <td>200 Block N DITHRIDGE ST PITTSBURGH, PA</td>\n",
       "      <td>5503(a)(2) DISORDERLY CONDUCT - UNREASONABLE N...</td>\n",
       "      <td>North Oakland</td>\n",
       "      <td>4</td>\n",
       "      <td>507</td>\n",
       "      <td>8.0</td>\n",
       "      <td>3.0</td>\n",
       "      <td>-79.951692</td>\n",
       "      <td>40.449311</td>\n",
       "    </tr>\n",
       "    <tr>\n",
       "      <th>1</th>\n",
       "      <td>1078082</td>\n",
       "      <td>16157849</td>\n",
       "      <td>M</td>\n",
       "      <td>W</td>\n",
       "      <td>21.0</td>\n",
       "      <td>2016-08-22T23:45:00</td>\n",
       "      <td>200 Block N DITHRIDGE ST PITTSBURGH, PA</td>\n",
       "      <td>5503(a)(2) DISORDERLY CONDUCT - UNREASONABLE N...</td>\n",
       "      <td>North Oakland</td>\n",
       "      <td>4</td>\n",
       "      <td>507</td>\n",
       "      <td>8.0</td>\n",
       "      <td>3.0</td>\n",
       "      <td>-79.951692</td>\n",
       "      <td>40.449311</td>\n",
       "    </tr>\n",
       "    <tr>\n",
       "      <th>2</th>\n",
       "      <td>1078083</td>\n",
       "      <td>16159579</td>\n",
       "      <td>NaN</td>\n",
       "      <td>NaN</td>\n",
       "      <td>NaN</td>\n",
       "      <td>2016-08-25T11:10:00</td>\n",
       "      <td>NORTH PARK PITTSBURGH, PA</td>\n",
       "      <td>5505 Public Drunkenness</td>\n",
       "      <td>Allegheny Center</td>\n",
       "      <td>1</td>\n",
       "      <td>2204</td>\n",
       "      <td>NaN</td>\n",
       "      <td>NaN</td>\n",
       "      <td>0.000000</td>\n",
       "      <td>0.000000</td>\n",
       "    </tr>\n",
       "    <tr>\n",
       "      <th>3</th>\n",
       "      <td>1078084</td>\n",
       "      <td>16159780</td>\n",
       "      <td>M</td>\n",
       "      <td>B</td>\n",
       "      <td>22.0</td>\n",
       "      <td>2016-08-25T16:42:00</td>\n",
       "      <td>7200 Block FRANKSTOWN AV PITTSBURGH, PA</td>\n",
       "      <td>6501(a)(1) Scattering Rubbish; Any waste, dang...</td>\n",
       "      <td>Homewood South</td>\n",
       "      <td>5</td>\n",
       "      <td>1303</td>\n",
       "      <td>9.0</td>\n",
       "      <td>2.0</td>\n",
       "      <td>-79.896254</td>\n",
       "      <td>40.457329</td>\n",
       "    </tr>\n",
       "    <tr>\n",
       "      <th>4</th>\n",
       "      <td>1078085</td>\n",
       "      <td>16161591</td>\n",
       "      <td>F</td>\n",
       "      <td>W</td>\n",
       "      <td>22.0</td>\n",
       "      <td>2016-08-28T00:58:00</td>\n",
       "      <td>6100 Block BERLIN WY PITTSBURGH, PA</td>\n",
       "      <td>5503(a)(2) DISORDERLY CONDUCT - UNREASONABLE N...</td>\n",
       "      <td>Upper Lawrenceville</td>\n",
       "      <td>2</td>\n",
       "      <td>1011</td>\n",
       "      <td>7.0</td>\n",
       "      <td>2.0</td>\n",
       "      <td>-79.946664</td>\n",
       "      <td>40.485403</td>\n",
       "    </tr>\n",
       "    <tr>\n",
       "      <th>...</th>\n",
       "      <td>...</td>\n",
       "      <td>...</td>\n",
       "      <td>...</td>\n",
       "      <td>...</td>\n",
       "      <td>...</td>\n",
       "      <td>...</td>\n",
       "      <td>...</td>\n",
       "      <td>...</td>\n",
       "      <td>...</td>\n",
       "      <td>...</td>\n",
       "      <td>...</td>\n",
       "      <td>...</td>\n",
       "      <td>...</td>\n",
       "      <td>...</td>\n",
       "      <td>...</td>\n",
       "    </tr>\n",
       "    <tr>\n",
       "      <th>12817</th>\n",
       "      <td>1100488</td>\n",
       "      <td>21163687</td>\n",
       "      <td>M</td>\n",
       "      <td>W</td>\n",
       "      <td>69.0</td>\n",
       "      <td>2021-09-09T09:42:00</td>\n",
       "      <td>4000 Block FOSTER ST PITTSBURGH, PA</td>\n",
       "      <td>5532(a)(2) Neglect of Animals - Neglect of Ani...</td>\n",
       "      <td>Central Lawrenceville</td>\n",
       "      <td>2</td>\n",
       "      <td>901</td>\n",
       "      <td>7.0</td>\n",
       "      <td>2.0</td>\n",
       "      <td>-79.963672</td>\n",
       "      <td>40.469846</td>\n",
       "    </tr>\n",
       "    <tr>\n",
       "      <th>12818</th>\n",
       "      <td>1100489</td>\n",
       "      <td>21163687</td>\n",
       "      <td>M</td>\n",
       "      <td>W</td>\n",
       "      <td>69.0</td>\n",
       "      <td>2021-09-09T09:42:00</td>\n",
       "      <td>4000 Block FOSTER ST PITTSBURGH, PA</td>\n",
       "      <td>5532(a)(2) Neglect of Animals - Neglect of Ani...</td>\n",
       "      <td>Central Lawrenceville</td>\n",
       "      <td>2</td>\n",
       "      <td>901</td>\n",
       "      <td>7.0</td>\n",
       "      <td>2.0</td>\n",
       "      <td>-79.963672</td>\n",
       "      <td>40.469846</td>\n",
       "    </tr>\n",
       "    <tr>\n",
       "      <th>12819</th>\n",
       "      <td>1100490</td>\n",
       "      <td>21163687</td>\n",
       "      <td>M</td>\n",
       "      <td>W</td>\n",
       "      <td>69.0</td>\n",
       "      <td>2021-09-09T09:42:00</td>\n",
       "      <td>4000 Block FOSTER ST PITTSBURGH, PA</td>\n",
       "      <td>5532(a)(2) Neglect of Animals - Neglect of Ani...</td>\n",
       "      <td>Central Lawrenceville</td>\n",
       "      <td>2</td>\n",
       "      <td>901</td>\n",
       "      <td>7.0</td>\n",
       "      <td>2.0</td>\n",
       "      <td>-79.963672</td>\n",
       "      <td>40.469846</td>\n",
       "    </tr>\n",
       "    <tr>\n",
       "      <th>12820</th>\n",
       "      <td>1100491</td>\n",
       "      <td>21163687</td>\n",
       "      <td>M</td>\n",
       "      <td>W</td>\n",
       "      <td>69.0</td>\n",
       "      <td>2021-09-09T09:42:00</td>\n",
       "      <td>4000 Block FOSTER ST PITTSBURGH, PA</td>\n",
       "      <td>5532(a)(2) Neglect of Animals - Neglect of Ani...</td>\n",
       "      <td>Central Lawrenceville</td>\n",
       "      <td>2</td>\n",
       "      <td>901</td>\n",
       "      <td>7.0</td>\n",
       "      <td>2.0</td>\n",
       "      <td>-79.963672</td>\n",
       "      <td>40.469846</td>\n",
       "    </tr>\n",
       "    <tr>\n",
       "      <th>12821</th>\n",
       "      <td>1100492</td>\n",
       "      <td>21163687</td>\n",
       "      <td>M</td>\n",
       "      <td>W</td>\n",
       "      <td>69.0</td>\n",
       "      <td>2021-09-09T09:42:00</td>\n",
       "      <td>4000 Block FOSTER ST PITTSBURGH, PA</td>\n",
       "      <td>5532(a)(2) Neglect of Animals - Neglect of Ani...</td>\n",
       "      <td>Central Lawrenceville</td>\n",
       "      <td>2</td>\n",
       "      <td>901</td>\n",
       "      <td>7.0</td>\n",
       "      <td>2.0</td>\n",
       "      <td>-79.963672</td>\n",
       "      <td>40.469846</td>\n",
       "    </tr>\n",
       "  </tbody>\n",
       "</table>\n",
       "<p>12822 rows × 15 columns</p>\n",
       "</div>"
      ],
      "text/plain": [
       "            PK       CCR GENDER RACE   AGE            CITEDTIME  \\\n",
       "0      1078081  16157849      M    B  29.0  2016-08-22T23:45:00   \n",
       "1      1078082  16157849      M    W  21.0  2016-08-22T23:45:00   \n",
       "2      1078083  16159579    NaN  NaN   NaN  2016-08-25T11:10:00   \n",
       "3      1078084  16159780      M    B  22.0  2016-08-25T16:42:00   \n",
       "4      1078085  16161591      F    W  22.0  2016-08-28T00:58:00   \n",
       "...        ...       ...    ...  ...   ...                  ...   \n",
       "12817  1100488  21163687      M    W  69.0  2021-09-09T09:42:00   \n",
       "12818  1100489  21163687      M    W  69.0  2021-09-09T09:42:00   \n",
       "12819  1100490  21163687      M    W  69.0  2021-09-09T09:42:00   \n",
       "12820  1100491  21163687      M    W  69.0  2021-09-09T09:42:00   \n",
       "12821  1100492  21163687      M    W  69.0  2021-09-09T09:42:00   \n",
       "\n",
       "                               INCIDENTLOCATION  \\\n",
       "0      200 Block N DITHRIDGE ST PITTSBURGH, PA    \n",
       "1      200 Block N DITHRIDGE ST PITTSBURGH, PA    \n",
       "2                    NORTH PARK PITTSBURGH, PA    \n",
       "3      7200 Block FRANKSTOWN AV PITTSBURGH, PA    \n",
       "4          6100 Block BERLIN WY PITTSBURGH, PA    \n",
       "...                                         ...   \n",
       "12817      4000 Block FOSTER ST PITTSBURGH, PA    \n",
       "12818      4000 Block FOSTER ST PITTSBURGH, PA    \n",
       "12819      4000 Block FOSTER ST PITTSBURGH, PA    \n",
       "12820      4000 Block FOSTER ST PITTSBURGH, PA    \n",
       "12821      4000 Block FOSTER ST PITTSBURGH, PA    \n",
       "\n",
       "                                                OFFENSES  \\\n",
       "0      5503(a)(2) DISORDERLY CONDUCT - UNREASONABLE N...   \n",
       "1      5503(a)(2) DISORDERLY CONDUCT - UNREASONABLE N...   \n",
       "2                                5505 Public Drunkenness   \n",
       "3      6501(a)(1) Scattering Rubbish; Any waste, dang...   \n",
       "4      5503(a)(2) DISORDERLY CONDUCT - UNREASONABLE N...   \n",
       "...                                                  ...   \n",
       "12817  5532(a)(2) Neglect of Animals - Neglect of Ani...   \n",
       "12818  5532(a)(2) Neglect of Animals - Neglect of Ani...   \n",
       "12819  5532(a)(2) Neglect of Animals - Neglect of Ani...   \n",
       "12820  5532(a)(2) Neglect of Animals - Neglect of Ani...   \n",
       "12821  5532(a)(2) Neglect of Animals - Neglect of Ani...   \n",
       "\n",
       "                NEIGHBORHOOD ZONE INCIDENTTRACT  COUNCIL_DISTRICT  \\\n",
       "0              North Oakland    4           507               8.0   \n",
       "1              North Oakland    4           507               8.0   \n",
       "2           Allegheny Center    1          2204               NaN   \n",
       "3             Homewood South    5          1303               9.0   \n",
       "4        Upper Lawrenceville    2          1011               7.0   \n",
       "...                      ...  ...           ...               ...   \n",
       "12817  Central Lawrenceville    2           901               7.0   \n",
       "12818  Central Lawrenceville    2           901               7.0   \n",
       "12819  Central Lawrenceville    2           901               7.0   \n",
       "12820  Central Lawrenceville    2           901               7.0   \n",
       "12821  Central Lawrenceville    2           901               7.0   \n",
       "\n",
       "       PUBLIC_WORKS_DIVISION          X          Y  \n",
       "0                        3.0 -79.951692  40.449311  \n",
       "1                        3.0 -79.951692  40.449311  \n",
       "2                        NaN   0.000000   0.000000  \n",
       "3                        2.0 -79.896254  40.457329  \n",
       "4                        2.0 -79.946664  40.485403  \n",
       "...                      ...        ...        ...  \n",
       "12817                    2.0 -79.963672  40.469846  \n",
       "12818                    2.0 -79.963672  40.469846  \n",
       "12819                    2.0 -79.963672  40.469846  \n",
       "12820                    2.0 -79.963672  40.469846  \n",
       "12821                    2.0 -79.963672  40.469846  \n",
       "\n",
       "[12822 rows x 15 columns]"
      ]
     },
     "execution_count": 2,
     "metadata": {},
     "output_type": "execute_result"
    }
   ],
   "source": [
    "# Initialize a variable and print\n",
    "non_traffic_citations = pd.read_csv(\"NonTrafficCitations.csv\") # index_col=\"_id\")\n",
    "non_traffic_citations"
   ]
  },
  {
   "cell_type": "markdown",
   "metadata": {},
   "source": [
    "----\n",
    "### Filtering the Data\n",
    "After loading the entire data, I am going to display only the neighborhood column."
   ]
  },
  {
   "cell_type": "code",
   "execution_count": 3,
   "metadata": {},
   "outputs": [
    {
     "data": {
      "text/plain": [
       "0                North Oakland\n",
       "1                North Oakland\n",
       "2             Allegheny Center\n",
       "3               Homewood South\n",
       "4          Upper Lawrenceville\n",
       "                 ...          \n",
       "12817    Central Lawrenceville\n",
       "12818    Central Lawrenceville\n",
       "12819    Central Lawrenceville\n",
       "12820    Central Lawrenceville\n",
       "12821    Central Lawrenceville\n",
       "Name: NEIGHBORHOOD, Length: 12822, dtype: object"
      ]
     },
     "execution_count": 3,
     "metadata": {},
     "output_type": "execute_result"
    }
   ],
   "source": [
    "# Display only the column with the neighborhood\n",
    "neighborhoods = non_traffic_citations.iloc[:, 8]\n",
    "neighborhoods"
   ]
  },
  {
   "cell_type": "markdown",
   "metadata": {},
   "source": [
    "----\n",
    "### Getting the number of times a citation was issued in a particular neighborhood\n",
    "The following code is going to include a dictionary. It will keep track of the number of times a citation was issued in a particular neighborhood. "
   ]
  },
  {
   "cell_type": "code",
   "execution_count": 4,
   "metadata": {},
   "outputs": [
    {
     "name": "stdout",
     "output_type": "stream",
     "text": [
      "nan: 1\n",
      "Ridgemont: 1\n",
      "Mt. Oliver Boro: 1\n",
      "Chartiers City: 1\n",
      "Outside State: 2\n",
      "Outside County: 2\n",
      "St. Clair: 3\n",
      "Mt. Oliver Neighborhood: 4\n",
      "New Homestead: 5\n",
      "Swisshelm Park: 5\n",
      "Spring Garden: 7\n",
      "Hays: 7\n",
      "Regent Square: 7\n",
      "Summer Hill: 7\n",
      "Arlington Heights: 7\n",
      "Unable To Retrieve Address: 7\n",
      "Oakwood: 8\n",
      "Fairywood: 9\n",
      "Outside City: 9\n",
      "Duquesne Heights: 13\n",
      "Friendship: 14\n",
      "Windgap: 14\n",
      "Allegheny West: 16\n",
      "East Carnegie: 17\n",
      "Polish Hill: 17\n",
      "Lower Lawrenceville: 19\n",
      "Glen Hazel: 19\n",
      "Morningside: 22\n",
      "Bon Air: 22\n",
      "Upper Hill: 23\n",
      "Esplen: 25\n",
      "California-Kirkbride: 26\n",
      "Westwood: 26\n",
      "Terrace Village: 26\n",
      "West End: 27\n",
      "Stanton Heights: 27\n",
      "Mount Oliver: 28\n",
      "Upper Lawrenceville: 31\n",
      "Fineview: 31\n",
      "Point Breeze North: 32\n",
      "Manchester: 33\n",
      "Banksville: 36\n",
      "Homewood West: 38\n",
      "Lincoln Place: 38\n",
      "Troy Hill: 38\n",
      "Perry North: 39\n",
      "Golden Triangle/Civic Arena: 42\n",
      "Highland Park: 42\n",
      "Spring Hill-City View: 45\n",
      "Overbrook: 46\n",
      "South Shore: 46\n",
      "Point Breeze: 47\n",
      "Bedford Dwellings: 51\n",
      "Crafton Heights: 54\n",
      "Northview Heights: 55\n",
      "West Oakland: 56\n",
      "Beltzhoover: 56\n",
      "Chateau: 58\n",
      "Perry South: 60\n",
      "Arlington: 67\n",
      "Brighton Heights: 75\n",
      "Crawford-Roberts: 81\n",
      "Middle Hill: 82\n",
      "Strip District: 90\n",
      "Garfield: 94\n",
      "Marshall-Shadeland: 97\n",
      "Elliott: 102\n",
      "South Oakland: 104\n",
      "Lincoln-Lemington-Belmar: 109\n",
      "East Hills: 111\n",
      "Bluff: 123\n",
      "Central North Side: 128\n",
      "Allegheny Center: 133\n",
      "Bloomfield: 133\n",
      "Larimer: 135\n",
      "Beechview: 136\n",
      "Central Lawrenceville: 140\n",
      "Greenfield: 141\n",
      "Squirrel Hill North: 157\n",
      "South Side Slopes: 161\n",
      "Homewood North: 164\n",
      "Allentown: 166\n",
      "North Oakland: 185\n",
      "Homewood South: 185\n",
      "Knoxville: 187\n",
      "East Liberty: 190\n",
      "Sheraden: 224\n",
      "Squirrel Hill South: 229\n",
      "Hazelwood: 242\n",
      "Brookline: 280\n",
      "Shadyside: 285\n",
      "Mount Washington: 289\n",
      "East Allegheny: 316\n",
      "Carrick: 329\n",
      "North Shore: 458\n",
      "Central Oakland: 622\n",
      "Central Business District: 1420\n",
      "South Side Flats: 3032\n"
     ]
    }
   ],
   "source": [
    "# inDict Function\n",
    "def inDict(word):\n",
    "    for w in dictionary:\n",
    "        if word == w:\n",
    "            return True\n",
    "    return False\n",
    "\n",
    "# Initialize a global dictionary\n",
    "global dictionary\n",
    "dictionary = {}\n",
    "\n",
    "# Iterate this code for each row in neighborhoods\n",
    "for row in neighborhoods:\n",
    "    # If the item is in the dictionary, add 1 to its value\n",
    "    if(inDict(row)):\n",
    "        dictionary[row] += 1\n",
    "        \n",
    "    # If the item is not in the dictionary, create a new entry and initialize it to 1\n",
    "    else:\n",
    "        dictionary[row] = 1\n",
    "        \n",
    "# Sort the dictionary (this will turn it into a list of tuples)\n",
    "dictionary = sorted(dictionary.items(), key=operator.itemgetter(1))\n",
    "\n",
    "# Print the list\n",
    "for key in dictionary:\n",
    "    print(str(key[0]) + \": \" + str(key[1]))"
   ]
  },
  {
   "cell_type": "markdown",
   "metadata": {},
   "source": [
    "----\n",
    "### Creating a Histogram\n",
    "Below, I will create visualizations based on the above data, the first of which being a histogram."
   ]
  },
  {
   "cell_type": "code",
   "execution_count": 5,
   "metadata": {},
   "outputs": [
    {
     "data": {
      "text/plain": [
       "<matplotlib.axes._subplots.AxesSubplot at 0x7f28b51da9d0>"
      ]
     },
     "execution_count": 5,
     "metadata": {},
     "output_type": "execute_result"
    },
    {
     "data": {
      "image/png": "[encoded data removed]",
      "text/plain": [
       "<Figure size 432x288 with 1 Axes>"
      ]
     },
     "metadata": {
      "needs_background": "light"
     },
     "output_type": "display_data"
    }
   ],
   "source": [
    "# Initialize a list\n",
    "numbers = []\n",
    "\n",
    "# Add elements to the list\n",
    "for key in dictionary:\n",
    "    numbers.append(int(key[1]))\n",
    "    \n",
    "# Create a DataFrame\n",
    "numbers = pd.DataFrame(numbers)\n",
    "\n",
    "# Create a histogram\n",
    "numbers[0].plot.hist(bins=15, grid=True)"
   ]
  },
  {
   "cell_type": "markdown",
   "metadata": {},
   "source": [
    "----\n",
    "### Creating a Box Plot\n",
    "The next visualization I am creating is a box plot."
   ]
  },
  {
   "cell_type": "code",
   "execution_count": 6,
   "metadata": {},
   "outputs": [
    {
     "data": {
      "text/plain": [
       "<matplotlib.axes._subplots.AxesSubplot at 0x7f28b50c9df0>"
      ]
     },
     "execution_count": 6,
     "metadata": {},
     "output_type": "execute_result"
    },
    {
     "data": {
      "image/png": "[encoded data removed]",
      "text/plain": [
       "<Figure size 432x288 with 1 Axes>"
      ]
     },
     "metadata": {
      "needs_background": "light"
     },
     "output_type": "display_data"
    }
   ],
   "source": [
    "# Create a box plot\n",
    "numbers[0].plot.box()"
   ]
  },
  {
   "cell_type": "markdown",
   "metadata": {},
   "source": [
    "----\n",
    "### Create a Density Plot\n",
    "The final visualization I am creating is a density plot."
   ]
  },
  {
   "cell_type": "code",
   "execution_count": 7,
   "metadata": {},
   "outputs": [
    {
     "data": {
      "text/plain": [
       "<matplotlib.axes._subplots.AxesSubplot at 0x7f28b4bf12b0>"
      ]
     },
     "execution_count": 7,
     "metadata": {},
     "output_type": "execute_result"
    },
    {
     "data": {
      "image/png": "[encoded data removed]",
      "text/plain": [
       "<Figure size 432x288 with 1 Axes>"
      ]
     },
     "metadata": {
      "needs_background": "light"
     },
     "output_type": "display_data"
    }
   ],
   "source": [
    "# Create a density plot\n",
    "numbers[0].plot.density()"
   ]
  },
  {
   "cell_type": "markdown",
   "metadata": {},
   "source": [
    "----\n",
    "### Display Descriptive Statistics\n",
    "After creating the visualizations, I plan to display the descriptive statistics using the Pandas's describe method."
   ]
  },
  {
   "cell_type": "code",
   "execution_count": 8,
   "metadata": {},
   "outputs": [
    {
     "data": {
      "text/plain": [
       "count      98.000000\n",
       "mean      129.081633\n",
       "std       341.652825\n",
       "min         1.000000\n",
       "25%        17.500000\n",
       "50%        45.500000\n",
       "75%       133.000000\n",
       "max      3032.000000\n",
       "Name: 0, dtype: float64"
      ]
     },
     "execution_count": 8,
     "metadata": {},
     "output_type": "execute_result"
    }
   ],
   "source": [
    "# Displaying descriptive statistics\n",
    "numbers[0].describe()"
   ]
  },
  {
   "cell_type": "markdown",
   "metadata": {},
   "source": [
    "---\n",
    "### Data Analysis\n",
    "When looking at the data, the data appears to be unimodal and severely skewed to the right. There appear to be many outliers, such as a data point at 3032 and 1420.<br>\n",
    "The mean hovers around 129 citations per neighborhood, and the median hovers around 45.5 citations per neighborhood.<br>\n",
    "The standard deviation is around 341.7 citations per neighborhood, and the interquartile range is around 115.5 citations per neighborhood.<br>\n",
    "Due to the skewed distribution of the data, the median and interquartile range would be more suitable to use than the mean and standard deviation for further analysis."
   ]
  },
  {
   "cell_type": "markdown",
   "metadata": {},
   "source": [
    "----\n",
    "### Conclusion\n",
    "When looking at the data, it appears that the minimum value is a tie between multiple different neighborhoods: Ridgemont, Mount Oliver Borough,<br> \n",
    "and Chartiers City. (I decided to exclude \"nan\" in the dataset for the purpose of this conclusion.)<br>\n",
    "\n",
    "The metric our group is using is determining which neighborhood in Pittsburgh is the easiest to commit a crime in. We decided that lower<br>\n",
    "number of citations signify that committing crime is easier since this could mean that crimes may not be caught as easily.<br>\n",
    "\n",
    "Therefore, based on the data from my analysis, it appears that the easiest neighborhoods to commit a crime in are Ridgemont, Mount Oliver Borough,<br>\n",
    "and Chartiers City. However, there are many other neighborhoods with less than 10 citations, so this could also mean committing crime in those<br>\n",
    "neighborhoods may not be much more difficult than the aforementioned top three. Additionally, a lower population in these neighborhoods could also<br>\n",
    "be a factor that contributes to the low number of citations."
   ]
  },
  {
   "cell_type": "code",
   "execution_count": null,
   "metadata": {},
   "outputs": [],
   "source": []
  }
 ],
 "metadata": {
  "kernelspec": {
   "display_name": "Python 3",
   "language": "python",
   "name": "python3"
  },
  "language_info": {
   "codemirror_mode": {
    "name": "ipython",
    "version": 3
   },
   "file_extension": ".py",
   "mimetype": "text/x-python",
   "name": "python",
   "nbconvert_exporter": "python",
   "pygments_lexer": "ipython3",
   "version": "3.8.3"
  }
 },
 "nbformat": 4,
 "nbformat_minor": 4
}
