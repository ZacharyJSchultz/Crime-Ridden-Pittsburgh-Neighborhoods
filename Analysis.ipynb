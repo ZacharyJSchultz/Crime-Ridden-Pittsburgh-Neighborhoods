{
 "cells": [
  {
   "cell_type": "code",
   "execution_count": 26,
   "metadata": {},
   "outputs": [],
   "source": [
    "# Combined Notebook\n",
    "\n",
    "import pandas as pd\n",
    "import numpy as np\n",
    "\n",
    "%matplotlib inline\n",
    "\n",
    "import matplotlib.pyplot as plt\n",
    "\n",
    "pd.set_option('display.min_rows', 400) # So we see all the neighborhoods\n",
    "pd.set_option('display.max_rows', 400)"
   ]
  },
  {
   "cell_type": "code",
   "execution_count": null,
   "metadata": {},
   "outputs": [],
   "source": [
    "# Zach's Data\n",
    "policeData = pd.read_csv(\"archive-police-blotter.csv\", parse_dates=True, low_memory=False) # Read File\n",
    "\n",
    "# Drop unnecessary columns\n",
    "policeData.drop(columns = [\"PK\", \"CCR\", \"INCIDENTTIME\", \"INCIDENTLOCATION\", \"CLEAREDFLAG\", \"INCIDENTZONE\", \"HIERARCHYDESC\", \"INCIDENTTRACT\", \"X\", \"Y\"], inplace = True)\n",
    "\n",
    "#Deletes from 8-29 (unnecessary hierarchies)\n",
    "for i in range(22):\n",
    "    policeData.drop(policeData[policeData.HIERARCHY == i+8].index, inplace=True)\n",
    "\n",
    "#Deletes the ones the for loop didn't get to\n",
    "policeData.drop(policeData[policeData.HIERARCHY == 0].index, inplace=True)\n",
    "policeData.drop(policeData[policeData.HIERARCHY == 1].index, inplace=True)\n",
    "policeData.drop(policeData[policeData.HIERARCHY == 2].index, inplace=True)\n",
    "policeData.drop(policeData[policeData.HIERARCHY == 4].index, inplace=True)\n",
    "policeData.drop(policeData[policeData.HIERARCHY == 99].index, inplace=True)\n",
    "\n",
    "# Group by neighborhood\n",
    "neighborhoods = policeData.groupby([\"INCIDENTNEIGHBORHOOD\"]).count()\n",
    "\n",
    "# Remove hierarchy so we can combine all forms of stealing\n",
    "neighborhoods.drop(columns = \"HIERARCHY\", inplace = True)\n",
    "\n",
    "neighborhoods.sort_values(\"OFFENSES\") # Sort values by # of offenses\n",
    "\n"
   ]
  },
  {
   "cell_type": "code",
   "execution_count": null,
   "metadata": {},
   "outputs": [],
   "source": []
  }
 ],
 "metadata": {
  "kernelspec": {
   "display_name": "Python 3",
   "language": "python",
   "name": "python3"
  },
  "language_info": {
   "codemirror_mode": {
    "name": "ipython",
    "version": 3
   },
   "file_extension": ".py",
   "mimetype": "text/x-python",
   "name": "python",
   "nbconvert_exporter": "python",
   "pygments_lexer": "ipython3",
   "version": "3.8.3"
  }
 },
 "nbformat": 4,
 "nbformat_minor": 4
}
