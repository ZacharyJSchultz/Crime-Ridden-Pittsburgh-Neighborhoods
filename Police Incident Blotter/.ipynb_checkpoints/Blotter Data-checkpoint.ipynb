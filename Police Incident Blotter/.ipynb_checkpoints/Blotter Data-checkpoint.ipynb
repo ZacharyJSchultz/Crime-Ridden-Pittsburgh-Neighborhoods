{
 "cells": [
  {
   "cell_type": "markdown",
   "metadata": {},
   "source": [
    "# Police Blotter Data\n",
    "# Zach Schultz"
   ]
  },
  {
   "cell_type": "code",
   "execution_count": 134,
   "metadata": {},
   "outputs": [],
   "source": [
    "import pandas as pd\n",
    "import numpy as np\n",
    "\n",
    "%matplotlib inline\n",
    "\n",
    "import matplotlib.pyplot as mpl"
   ]
  },
  {
   "cell_type": "markdown",
   "metadata": {},
   "source": [
    "This is the dataset for crime incidents that have met the UCR standards. It has relevent information such as neighborhood, hierarchy of how severe the crime is (ex. 1 = murder), time, and more.\n",
    "\n",
    "https://data.wprdc.org/dataset/uniform-crime-reporting-data\n",
    "\n",
    "In the link there is also a Burgh's Eye View which contains a very useful map.\n",
    "\n",
    "\n",
    "Pandas Cheat Sheet: https://pandas.pydata.org/Pandas_Cheat_Sheet.pdf"
   ]
  },
  {
   "cell_type": "markdown",
   "metadata": {},
   "source": [
    "## First, I'm going to load the data\n",
    "\n",
    "To save space, the plot has only 10 rows displayed. This is just an example of what the data will look like."
   ]
  },
  {
   "cell_type": "code",
   "execution_count": null,
   "metadata": {},
   "outputs": [],
   "source": [
    "data = pd.read_csv(\"archive-police-blotter.csv\", parse_dates=True, low_memory=False)\n",
    "\n",
    "#Display data\n",
    "data"
   ]
  },
  {
   "cell_type": "markdown",
   "metadata": {},
   "source": [
    "# Some Minor Simplification...\n",
    "\n",
    "Next, I'm going to remove all the unnecessary columns."
   ]
  },
  {
   "cell_type": "code",
   "execution_count": null,
   "metadata": {},
   "outputs": [],
   "source": [
    "data.drop(columns = [\"PK\", \"CCR\", \"INCIDENTTIME\", \"INCIDENTLOCATION\", \"CLEAREDFLAG\", \"INCIDENTZONE\", \"HIERARCHYDESC\", \"INCIDENTTRACT\", \"X\", \"Y\"], inplace = True)\n",
    "\n",
    "data"
   ]
  },
  {
   "cell_type": "markdown",
   "metadata": {},
   "source": [
    "# Removing Unnecessary Hierarchies\n",
    "\n",
    "For our project, we are interested in Hierarchy values 3, 5, 6, and 7.<br>\n",
    "3: Robbery <br>\n",
    "5: Burglary <br>\n",
    "6: Theft <br>\n",
    "7: Vehicle Theft <br>\n",
    "\n",
    "So I'll drop the useless Hierarchy values to remove some clutter."
   ]
  },
  {
   "cell_type": "code",
   "execution_count": null,
   "metadata": {},
   "outputs": [],
   "source": [
    "data = pd.read_csv(\"archive-police-blotter.csv\", parse_dates=True, low_memory=False)\n",
    "data.drop(columns = [\"PK\", \"CCR\", \"INCIDENTTIME\", \"INCIDENTLOCATION\", \"CLEAREDFLAG\", \"INCIDENTZONE\", \"HIERARCHYDESC\", \"INCIDENTTRACT\", \"X\", \"Y\"], inplace = True)\n",
    "\n",
    "data.drop(data[data.score = 6].index, inplace=True)\n",
    "\n",
    "data\n"
   ]
  },
  {
   "cell_type": "markdown",
   "metadata": {},
   "source": [
    "As you can see, there are 14,060 Robberies, 31,980 Burglaries, 90,677 Thefts, and 14,442 Vehicle Thefts in Pittsburgh. Really makes you feel safe, doesn't it?"
   ]
  },
  {
   "cell_type": "code",
   "execution_count": null,
   "metadata": {},
   "outputs": [],
   "source": []
  }
 ],
 "metadata": {
  "kernelspec": {
   "display_name": "Python 3",
   "language": "python",
   "name": "python3"
  },
  "language_info": {
   "codemirror_mode": {
    "name": "ipython",
    "version": 3
   },
   "file_extension": ".py",
   "mimetype": "text/x-python",
   "name": "python",
   "nbconvert_exporter": "python",
   "pygments_lexer": "ipython3",
   "version": "3.8.3"
  }
 },
 "nbformat": 4,
 "nbformat_minor": 4
}
