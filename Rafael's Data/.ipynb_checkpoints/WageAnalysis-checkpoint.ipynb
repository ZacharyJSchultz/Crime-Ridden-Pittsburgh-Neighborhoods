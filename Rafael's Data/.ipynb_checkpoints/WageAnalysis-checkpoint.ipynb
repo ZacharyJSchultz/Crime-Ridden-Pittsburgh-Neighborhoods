{
 "cells": [
  {
   "cell_type": "markdown",
   "metadata": {},
   "source": [
    "## Wage/Salary Income in the Past 12 Months for Households\n",
    "### Rafael Hollero's Final Project Analysis"
   ]
  },
  {
   "cell_type": "markdown",
   "metadata": {},
   "source": [
    "#### Importing Data Packages"
   ]
  },
  {
   "cell_type": "code",
   "execution_count": 11,
   "metadata": {},
   "outputs": [],
   "source": [
    "import pandas as pd\n",
    "import numpy as np\n",
    "import matplotlib.pyplot as plt"
   ]
  },
  {
   "cell_type": "markdown",
   "metadata": {},
   "source": [
    "----\n",
    "#### Loading Data"
   ]
  },
  {
   "cell_type": "code",
   "execution_count": 3,
   "metadata": {},
   "outputs": [],
   "source": [
    "wages = pd.read_csv(\"wage-or-salary-income-in-the-past-12-months-for-households.csv\")"
   ]
  },
  {
   "cell_type": "markdown",
   "metadata": {},
   "source": [
    "The data set \"wages\" contains the wages/salary income average for households within certain neighborhoods. Additionally, the estimates contain margins of error to help determine a possible range of the wages for each neighborhood."
   ]
  },
  {
   "cell_type": "code",
   "execution_count": 4,
   "metadata": {},
   "outputs": [
    {
     "data": {
      "text/html": [
       "<div>\n",
       "<style scoped>\n",
       "    .dataframe tbody tr th:only-of-type {\n",
       "        vertical-align: middle;\n",
       "    }\n",
       "\n",
       "    .dataframe tbody tr th {\n",
       "        vertical-align: top;\n",
       "    }\n",
       "\n",
       "    .dataframe thead th {\n",
       "        text-align: right;\n",
       "    }\n",
       "</style>\n",
       "<table border=\"1\" class=\"dataframe\">\n",
       "  <thead>\n",
       "    <tr style=\"text-align: right;\">\n",
       "      <th></th>\n",
       "      <th>Neighborhood</th>\n",
       "      <th>Id</th>\n",
       "      <th>Estimate; Total:</th>\n",
       "      <th>Margin of Error; Total:</th>\n",
       "      <th>Estimate; Total: - With wage or salary income</th>\n",
       "      <th>Margin of Error; Total: - With wage or salary income</th>\n",
       "      <th>Estimate; Total: - No wage or salary income</th>\n",
       "      <th>Margin of Error; Total: - No wage or salary income</th>\n",
       "    </tr>\n",
       "  </thead>\n",
       "  <tbody>\n",
       "    <tr>\n",
       "      <th>0</th>\n",
       "      <td>Allegheny Center</td>\n",
       "      <td>1</td>\n",
       "      <td>870.0</td>\n",
       "      <td>93.000000</td>\n",
       "      <td>635.0</td>\n",
       "      <td>91.000000</td>\n",
       "      <td>235.0</td>\n",
       "      <td>59.000000</td>\n",
       "    </tr>\n",
       "    <tr>\n",
       "      <th>1</th>\n",
       "      <td>Allegheny West</td>\n",
       "      <td>2</td>\n",
       "      <td>146.0</td>\n",
       "      <td>36.000000</td>\n",
       "      <td>119.0</td>\n",
       "      <td>35.000000</td>\n",
       "      <td>27.0</td>\n",
       "      <td>20.000000</td>\n",
       "    </tr>\n",
       "    <tr>\n",
       "      <th>2</th>\n",
       "      <td>Allentown</td>\n",
       "      <td>3</td>\n",
       "      <td>1069.0</td>\n",
       "      <td>132.457540</td>\n",
       "      <td>736.0</td>\n",
       "      <td>140.335313</td>\n",
       "      <td>333.0</td>\n",
       "      <td>97.493590</td>\n",
       "    </tr>\n",
       "    <tr>\n",
       "      <th>3</th>\n",
       "      <td>Arlington</td>\n",
       "      <td>4</td>\n",
       "      <td>701.0</td>\n",
       "      <td>104.465305</td>\n",
       "      <td>570.0</td>\n",
       "      <td>106.273233</td>\n",
       "      <td>131.0</td>\n",
       "      <td>45.199558</td>\n",
       "    </tr>\n",
       "    <tr>\n",
       "      <th>4</th>\n",
       "      <td>Arlington Heights</td>\n",
       "      <td>5</td>\n",
       "      <td>144.0</td>\n",
       "      <td>59.000000</td>\n",
       "      <td>99.0</td>\n",
       "      <td>60.000000</td>\n",
       "      <td>45.0</td>\n",
       "      <td>30.000000</td>\n",
       "    </tr>\n",
       "    <tr>\n",
       "      <th>...</th>\n",
       "      <td>...</td>\n",
       "      <td>...</td>\n",
       "      <td>...</td>\n",
       "      <td>...</td>\n",
       "      <td>...</td>\n",
       "      <td>...</td>\n",
       "      <td>...</td>\n",
       "      <td>...</td>\n",
       "    </tr>\n",
       "    <tr>\n",
       "      <th>86</th>\n",
       "      <td>Upper Lawrenceville</td>\n",
       "      <td>87</td>\n",
       "      <td>1287.0</td>\n",
       "      <td>137.091211</td>\n",
       "      <td>998.0</td>\n",
       "      <td>141.322327</td>\n",
       "      <td>289.0</td>\n",
       "      <td>92.330927</td>\n",
       "    </tr>\n",
       "    <tr>\n",
       "      <th>87</th>\n",
       "      <td>West End</td>\n",
       "      <td>88</td>\n",
       "      <td>99.0</td>\n",
       "      <td>47.000000</td>\n",
       "      <td>81.0</td>\n",
       "      <td>49.000000</td>\n",
       "      <td>18.0</td>\n",
       "      <td>16.000000</td>\n",
       "    </tr>\n",
       "    <tr>\n",
       "      <th>88</th>\n",
       "      <td>West Oakland</td>\n",
       "      <td>89</td>\n",
       "      <td>630.0</td>\n",
       "      <td>79.611557</td>\n",
       "      <td>334.0</td>\n",
       "      <td>64.660653</td>\n",
       "      <td>296.0</td>\n",
       "      <td>66.241981</td>\n",
       "    </tr>\n",
       "    <tr>\n",
       "      <th>89</th>\n",
       "      <td>Westwood</td>\n",
       "      <td>90</td>\n",
       "      <td>1492.0</td>\n",
       "      <td>112.538882</td>\n",
       "      <td>1189.0</td>\n",
       "      <td>120.507261</td>\n",
       "      <td>303.0</td>\n",
       "      <td>81.565924</td>\n",
       "    </tr>\n",
       "    <tr>\n",
       "      <th>90</th>\n",
       "      <td>Windgap</td>\n",
       "      <td>91</td>\n",
       "      <td>647.0</td>\n",
       "      <td>100.124922</td>\n",
       "      <td>472.0</td>\n",
       "      <td>100.568385</td>\n",
       "      <td>175.0</td>\n",
       "      <td>65.513357</td>\n",
       "    </tr>\n",
       "  </tbody>\n",
       "</table>\n",
       "<p>91 rows × 8 columns</p>\n",
       "</div>"
      ],
      "text/plain": [
       "           Neighborhood  Id  Estimate; Total:  Margin of Error; Total:  \\\n",
       "0      Allegheny Center   1             870.0                93.000000   \n",
       "1        Allegheny West   2             146.0                36.000000   \n",
       "2             Allentown   3            1069.0               132.457540   \n",
       "3             Arlington   4             701.0               104.465305   \n",
       "4     Arlington Heights   5             144.0                59.000000   \n",
       "..                  ...  ..               ...                      ...   \n",
       "86  Upper Lawrenceville  87            1287.0               137.091211   \n",
       "87             West End  88              99.0                47.000000   \n",
       "88         West Oakland  89             630.0                79.611557   \n",
       "89             Westwood  90            1492.0               112.538882   \n",
       "90              Windgap  91             647.0               100.124922   \n",
       "\n",
       "    Estimate; Total: - With wage or salary income  \\\n",
       "0                                           635.0   \n",
       "1                                           119.0   \n",
       "2                                           736.0   \n",
       "3                                           570.0   \n",
       "4                                            99.0   \n",
       "..                                            ...   \n",
       "86                                          998.0   \n",
       "87                                           81.0   \n",
       "88                                          334.0   \n",
       "89                                         1189.0   \n",
       "90                                          472.0   \n",
       "\n",
       "    Margin of Error; Total: - With wage or salary income  \\\n",
       "0                                           91.000000      \n",
       "1                                           35.000000      \n",
       "2                                          140.335313      \n",
       "3                                          106.273233      \n",
       "4                                           60.000000      \n",
       "..                                                ...      \n",
       "86                                         141.322327      \n",
       "87                                          49.000000      \n",
       "88                                          64.660653      \n",
       "89                                         120.507261      \n",
       "90                                         100.568385      \n",
       "\n",
       "    Estimate; Total: - No wage or salary income  \\\n",
       "0                                         235.0   \n",
       "1                                          27.0   \n",
       "2                                         333.0   \n",
       "3                                         131.0   \n",
       "4                                          45.0   \n",
       "..                                          ...   \n",
       "86                                        289.0   \n",
       "87                                         18.0   \n",
       "88                                        296.0   \n",
       "89                                        303.0   \n",
       "90                                        175.0   \n",
       "\n",
       "    Margin of Error; Total: - No wage or salary income  \n",
       "0                                           59.000000   \n",
       "1                                           20.000000   \n",
       "2                                           97.493590   \n",
       "3                                           45.199558   \n",
       "4                                           30.000000   \n",
       "..                                                ...   \n",
       "86                                          92.330927   \n",
       "87                                          16.000000   \n",
       "88                                          66.241981   \n",
       "89                                          81.565924   \n",
       "90                                          65.513357   \n",
       "\n",
       "[91 rows x 8 columns]"
      ]
     },
     "execution_count": 4,
     "metadata": {},
     "output_type": "execute_result"
    }
   ],
   "source": [
    "wages"
   ]
  },
  {
   "cell_type": "markdown",
   "metadata": {},
   "source": [
    "Now, I want to mainly focus on the Total Estimate and Margin of Error for each neighborhood, as we are not making a distinction between money earned with or without a wage/salary income.\n",
    "\n",
    "Margin of Error shows the assurance of the estimate, thus a higher margin of error indicates less confidence in the actual estimate."
   ]
  },
  {
   "cell_type": "markdown",
   "metadata": {},
   "source": [
    "----\n",
    "#### Data Organization"
   ]
  },
  {
   "cell_type": "code",
   "execution_count": 6,
   "metadata": {},
   "outputs": [
    {
     "data": {
      "text/html": [
       "<div>\n",
       "<style scoped>\n",
       "    .dataframe tbody tr th:only-of-type {\n",
       "        vertical-align: middle;\n",
       "    }\n",
       "\n",
       "    .dataframe tbody tr th {\n",
       "        vertical-align: top;\n",
       "    }\n",
       "\n",
       "    .dataframe thead th {\n",
       "        text-align: right;\n",
       "    }\n",
       "</style>\n",
       "<table border=\"1\" class=\"dataframe\">\n",
       "  <thead>\n",
       "    <tr style=\"text-align: right;\">\n",
       "      <th></th>\n",
       "      <th>Neighborhood</th>\n",
       "      <th>Estimate; Total:</th>\n",
       "      <th>Margin of Error; Total:</th>\n",
       "    </tr>\n",
       "  </thead>\n",
       "  <tbody>\n",
       "    <tr>\n",
       "      <th>0</th>\n",
       "      <td>Allegheny Center</td>\n",
       "      <td>870.0</td>\n",
       "      <td>93.000000</td>\n",
       "    </tr>\n",
       "    <tr>\n",
       "      <th>1</th>\n",
       "      <td>Allegheny West</td>\n",
       "      <td>146.0</td>\n",
       "      <td>36.000000</td>\n",
       "    </tr>\n",
       "    <tr>\n",
       "      <th>2</th>\n",
       "      <td>Allentown</td>\n",
       "      <td>1069.0</td>\n",
       "      <td>132.457540</td>\n",
       "    </tr>\n",
       "    <tr>\n",
       "      <th>3</th>\n",
       "      <td>Arlington</td>\n",
       "      <td>701.0</td>\n",
       "      <td>104.465305</td>\n",
       "    </tr>\n",
       "    <tr>\n",
       "      <th>4</th>\n",
       "      <td>Arlington Heights</td>\n",
       "      <td>144.0</td>\n",
       "      <td>59.000000</td>\n",
       "    </tr>\n",
       "    <tr>\n",
       "      <th>...</th>\n",
       "      <td>...</td>\n",
       "      <td>...</td>\n",
       "      <td>...</td>\n",
       "    </tr>\n",
       "    <tr>\n",
       "      <th>86</th>\n",
       "      <td>Upper Lawrenceville</td>\n",
       "      <td>1287.0</td>\n",
       "      <td>137.091211</td>\n",
       "    </tr>\n",
       "    <tr>\n",
       "      <th>87</th>\n",
       "      <td>West End</td>\n",
       "      <td>99.0</td>\n",
       "      <td>47.000000</td>\n",
       "    </tr>\n",
       "    <tr>\n",
       "      <th>88</th>\n",
       "      <td>West Oakland</td>\n",
       "      <td>630.0</td>\n",
       "      <td>79.611557</td>\n",
       "    </tr>\n",
       "    <tr>\n",
       "      <th>89</th>\n",
       "      <td>Westwood</td>\n",
       "      <td>1492.0</td>\n",
       "      <td>112.538882</td>\n",
       "    </tr>\n",
       "    <tr>\n",
       "      <th>90</th>\n",
       "      <td>Windgap</td>\n",
       "      <td>647.0</td>\n",
       "      <td>100.124922</td>\n",
       "    </tr>\n",
       "  </tbody>\n",
       "</table>\n",
       "<p>91 rows × 3 columns</p>\n",
       "</div>"
      ],
      "text/plain": [
       "           Neighborhood  Estimate; Total:  Margin of Error; Total:\n",
       "0      Allegheny Center             870.0                93.000000\n",
       "1        Allegheny West             146.0                36.000000\n",
       "2             Allentown            1069.0               132.457540\n",
       "3             Arlington             701.0               104.465305\n",
       "4     Arlington Heights             144.0                59.000000\n",
       "..                  ...               ...                      ...\n",
       "86  Upper Lawrenceville            1287.0               137.091211\n",
       "87             West End              99.0                47.000000\n",
       "88         West Oakland             630.0                79.611557\n",
       "89             Westwood            1492.0               112.538882\n",
       "90              Windgap             647.0               100.124922\n",
       "\n",
       "[91 rows x 3 columns]"
      ]
     },
     "execution_count": 6,
     "metadata": {},
     "output_type": "execute_result"
    }
   ],
   "source": [
    "totalEstimates = wages.iloc[:, [0,2,3]]\n",
    "totalEstimates"
   ]
  },
  {
   "cell_type": "markdown",
   "metadata": {},
   "source": [
    "I will now order two sets of data: one table that shows the neighborhoods with the highest estimate and a table that shows the neighborhoods with the lowest margin of error."
   ]
  },
  {
   "cell_type": "code",
   "execution_count": 7,
   "metadata": {},
   "outputs": [
    {
     "data": {
      "text/html": [
       "<div>\n",
       "<style scoped>\n",
       "    .dataframe tbody tr th:only-of-type {\n",
       "        vertical-align: middle;\n",
       "    }\n",
       "\n",
       "    .dataframe tbody tr th {\n",
       "        vertical-align: top;\n",
       "    }\n",
       "\n",
       "    .dataframe thead th {\n",
       "        text-align: right;\n",
       "    }\n",
       "</style>\n",
       "<table border=\"1\" class=\"dataframe\">\n",
       "  <thead>\n",
       "    <tr style=\"text-align: right;\">\n",
       "      <th></th>\n",
       "      <th>Neighborhood</th>\n",
       "      <th>Estimate; Total:</th>\n",
       "      <th>Margin of Error; Total:</th>\n",
       "    </tr>\n",
       "  </thead>\n",
       "  <tbody>\n",
       "    <tr>\n",
       "      <th>68</th>\n",
       "      <td>Shadyside</td>\n",
       "      <td>7484.0</td>\n",
       "      <td>360.919659</td>\n",
       "    </tr>\n",
       "    <tr>\n",
       "      <th>77</th>\n",
       "      <td>Squirrel Hill South</td>\n",
       "      <td>7211.0</td>\n",
       "      <td>332.601864</td>\n",
       "    </tr>\n",
       "    <tr>\n",
       "      <th>13</th>\n",
       "      <td>Brookline</td>\n",
       "      <td>5843.0</td>\n",
       "      <td>327.694980</td>\n",
       "    </tr>\n",
       "    <tr>\n",
       "      <th>9</th>\n",
       "      <td>Bloomfield</td>\n",
       "      <td>4571.0</td>\n",
       "      <td>205.494525</td>\n",
       "    </tr>\n",
       "    <tr>\n",
       "      <th>53</th>\n",
       "      <td>Mount Washington</td>\n",
       "      <td>4385.0</td>\n",
       "      <td>249.523546</td>\n",
       "    </tr>\n",
       "    <tr>\n",
       "      <th>...</th>\n",
       "      <td>...</td>\n",
       "      <td>...</td>\n",
       "      <td>...</td>\n",
       "    </tr>\n",
       "    <tr>\n",
       "      <th>30</th>\n",
       "      <td>Esplen</td>\n",
       "      <td>142.0</td>\n",
       "      <td>48.000000</td>\n",
       "    </tr>\n",
       "    <tr>\n",
       "      <th>78</th>\n",
       "      <td>St. Clair</td>\n",
       "      <td>101.0</td>\n",
       "      <td>42.000000</td>\n",
       "    </tr>\n",
       "    <tr>\n",
       "      <th>87</th>\n",
       "      <td>West End</td>\n",
       "      <td>99.0</td>\n",
       "      <td>47.000000</td>\n",
       "    </tr>\n",
       "    <tr>\n",
       "      <th>71</th>\n",
       "      <td>South Shore</td>\n",
       "      <td>8.0</td>\n",
       "      <td>9.000000</td>\n",
       "    </tr>\n",
       "    <tr>\n",
       "      <th>21</th>\n",
       "      <td>Chateau</td>\n",
       "      <td>3.0</td>\n",
       "      <td>3.000000</td>\n",
       "    </tr>\n",
       "  </tbody>\n",
       "</table>\n",
       "<p>91 rows × 3 columns</p>\n",
       "</div>"
      ],
      "text/plain": [
       "           Neighborhood  Estimate; Total:  Margin of Error; Total:\n",
       "68            Shadyside            7484.0               360.919659\n",
       "77  Squirrel Hill South            7211.0               332.601864\n",
       "13            Brookline            5843.0               327.694980\n",
       "9            Bloomfield            4571.0               205.494525\n",
       "53     Mount Washington            4385.0               249.523546\n",
       "..                  ...               ...                      ...\n",
       "30               Esplen             142.0                48.000000\n",
       "78            St. Clair             101.0                42.000000\n",
       "87             West End              99.0                47.000000\n",
       "71          South Shore               8.0                 9.000000\n",
       "21              Chateau               3.0                 3.000000\n",
       "\n",
       "[91 rows x 3 columns]"
      ]
     },
     "execution_count": 7,
     "metadata": {},
     "output_type": "execute_result"
    }
   ],
   "source": [
    "greatestEstimates = totalEstimates.sort_values(by=['Estimate; Total:'], ascending = False)\n",
    "greatestEstimates"
   ]
  },
  {
   "cell_type": "code",
   "execution_count": 8,
   "metadata": {},
   "outputs": [
    {
     "data": {
      "text/html": [
       "<div>\n",
       "<style scoped>\n",
       "    .dataframe tbody tr th:only-of-type {\n",
       "        vertical-align: middle;\n",
       "    }\n",
       "\n",
       "    .dataframe tbody tr th {\n",
       "        vertical-align: top;\n",
       "    }\n",
       "\n",
       "    .dataframe thead th {\n",
       "        text-align: right;\n",
       "    }\n",
       "</style>\n",
       "<table border=\"1\" class=\"dataframe\">\n",
       "  <thead>\n",
       "    <tr style=\"text-align: right;\">\n",
       "      <th></th>\n",
       "      <th>Neighborhood</th>\n",
       "      <th>Estimate; Total:</th>\n",
       "      <th>Margin of Error; Total:</th>\n",
       "    </tr>\n",
       "  </thead>\n",
       "  <tbody>\n",
       "    <tr>\n",
       "      <th>21</th>\n",
       "      <td>Chateau</td>\n",
       "      <td>3.0</td>\n",
       "      <td>3.000000</td>\n",
       "    </tr>\n",
       "    <tr>\n",
       "      <th>71</th>\n",
       "      <td>South Shore</td>\n",
       "      <td>8.0</td>\n",
       "      <td>9.000000</td>\n",
       "    </tr>\n",
       "    <tr>\n",
       "      <th>81</th>\n",
       "      <td>Summer Hill</td>\n",
       "      <td>517.0</td>\n",
       "      <td>16.000000</td>\n",
       "    </tr>\n",
       "    <tr>\n",
       "      <th>66</th>\n",
       "      <td>Regent Square</td>\n",
       "      <td>476.0</td>\n",
       "      <td>28.000000</td>\n",
       "    </tr>\n",
       "    <tr>\n",
       "      <th>55</th>\n",
       "      <td>New Homestead</td>\n",
       "      <td>379.0</td>\n",
       "      <td>32.000000</td>\n",
       "    </tr>\n",
       "    <tr>\n",
       "      <th>...</th>\n",
       "      <td>...</td>\n",
       "      <td>...</td>\n",
       "      <td>...</td>\n",
       "    </tr>\n",
       "    <tr>\n",
       "      <th>72</th>\n",
       "      <td>South Side Flats</td>\n",
       "      <td>3311.0</td>\n",
       "      <td>264.567572</td>\n",
       "    </tr>\n",
       "    <tr>\n",
       "      <th>15</th>\n",
       "      <td>Carrick</td>\n",
       "      <td>4301.0</td>\n",
       "      <td>277.613040</td>\n",
       "    </tr>\n",
       "    <tr>\n",
       "      <th>13</th>\n",
       "      <td>Brookline</td>\n",
       "      <td>5843.0</td>\n",
       "      <td>327.694980</td>\n",
       "    </tr>\n",
       "    <tr>\n",
       "      <th>77</th>\n",
       "      <td>Squirrel Hill South</td>\n",
       "      <td>7211.0</td>\n",
       "      <td>332.601864</td>\n",
       "    </tr>\n",
       "    <tr>\n",
       "      <th>68</th>\n",
       "      <td>Shadyside</td>\n",
       "      <td>7484.0</td>\n",
       "      <td>360.919659</td>\n",
       "    </tr>\n",
       "  </tbody>\n",
       "</table>\n",
       "<p>91 rows × 3 columns</p>\n",
       "</div>"
      ],
      "text/plain": [
       "           Neighborhood  Estimate; Total:  Margin of Error; Total:\n",
       "21              Chateau               3.0                 3.000000\n",
       "71          South Shore               8.0                 9.000000\n",
       "81          Summer Hill             517.0                16.000000\n",
       "66        Regent Square             476.0                28.000000\n",
       "55        New Homestead             379.0                32.000000\n",
       "..                  ...               ...                      ...\n",
       "72     South Side Flats            3311.0               264.567572\n",
       "15              Carrick            4301.0               277.613040\n",
       "13            Brookline            5843.0               327.694980\n",
       "77  Squirrel Hill South            7211.0               332.601864\n",
       "68            Shadyside            7484.0               360.919659\n",
       "\n",
       "[91 rows x 3 columns]"
      ]
     },
     "execution_count": 8,
     "metadata": {},
     "output_type": "execute_result"
    }
   ],
   "source": [
    "lowestError = totalEstimates.sort_values(by=['Margin of Error; Total:'], ascending = True)\n",
    "lowestError"
   ]
  },
  {
   "cell_type": "markdown",
   "metadata": {},
   "source": [
    "----\n",
    "#### Data Visualization"
   ]
  },
  {
   "cell_type": "markdown",
   "metadata": {},
   "source": [
    "Now the best way to visualize this is through a histogram, so I will create a histogram for each column."
   ]
  },
  {
   "cell_type": "code",
   "execution_count": 9,
   "metadata": {},
   "outputs": [
    {
     "data": {
      "text/plain": [
       "<matplotlib.axes._subplots.AxesSubplot at 0x7f764446ea00>"
      ]
     },
     "execution_count": 9,
     "metadata": {},
     "output_type": "execute_result"
    },
    {
     "data": {
      "image/png": "[encoded data removed]",
      "text/plain": [
       "<Figure size 432x288 with 1 Axes>"
      ]
     },
     "metadata": {
      "needs_background": "light"
     },
     "output_type": "display_data"
    }
   ],
   "source": [
    "greatestEstimates[\"Estimate; Total:\"].hist(bins=50)"
   ]
  },
  {
   "cell_type": "code",
   "execution_count": 16,
   "metadata": {},
   "outputs": [
    {
     "data": {
      "text/plain": [
       "<matplotlib.axes._subplots.AxesSubplot at 0x7f5cd9094a90>"
      ]
     },
     "execution_count": 16,
     "metadata": {},
     "output_type": "execute_result"
    },
    {
     "data": {
      "image/png": "[encoded data removed]",
      "text/plain": [
       "<Figure size 432x288 with 1 Axes>"
      ]
     },
     "metadata": {
      "needs_background": "light"
     },
     "output_type": "display_data"
    }
   ],
   "source": [
    "lowestError[\"Margin of Error; Total:\"].hist(bins=50)"
   ]
  },
  {
   "cell_type": "code",
   "execution_count": 25,
   "metadata": {},
   "outputs": [
    {
     "data": {
      "text/plain": [
       "<matplotlib.axes._subplots.AxesSubplot at 0x7f7640d08e20>"
      ]
     },
     "execution_count": 25,
     "metadata": {},
     "output_type": "execute_result"
    },
    {
     "data": {
      "image/png": "[encoded data removed]",
      "text/plain": [
       "<Figure size 432x288 with 1 Axes>"
      ]
     },
     "metadata": {
      "needs_background": "light"
     },
     "output_type": "display_data"
    }
   ],
   "source": [
    "lowestError.plot(x = 'Estimate; Total:', y = 'Margin of Error; Total:', kind = 'bar')"
   ]
  },
  {
   "cell_type": "markdown",
   "metadata": {},
   "source": [
    "An interesting pattern shows up here: the margin of error scales mostly equivalently to the total estimate, thus despite having the greatest margin of error, our best neighborhoods will be the ones with the greatest estimate. "
   ]
  },
  {
   "cell_type": "markdown",
   "metadata": {},
   "source": [
    "----\n",
    "#### Analysis"
   ]
  },
  {
   "cell_type": "code",
   "execution_count": 36,
   "metadata": {},
   "outputs": [
    {
     "data": {
      "text/html": [
       "<div>\n",
       "<style scoped>\n",
       "    .dataframe tbody tr th:only-of-type {\n",
       "        vertical-align: middle;\n",
       "    }\n",
       "\n",
       "    .dataframe tbody tr th {\n",
       "        vertical-align: top;\n",
       "    }\n",
       "\n",
       "    .dataframe thead th {\n",
       "        text-align: right;\n",
       "    }\n",
       "</style>\n",
       "<table border=\"1\" class=\"dataframe\">\n",
       "  <thead>\n",
       "    <tr style=\"text-align: right;\">\n",
       "      <th></th>\n",
       "      <th>Neighborhood</th>\n",
       "      <th>Estimate; Total:</th>\n",
       "      <th>Margin of Error; Total:</th>\n",
       "    </tr>\n",
       "  </thead>\n",
       "  <tbody>\n",
       "    <tr>\n",
       "      <th>68</th>\n",
       "      <td>Shadyside</td>\n",
       "      <td>7484.0</td>\n",
       "      <td>360.919659</td>\n",
       "    </tr>\n",
       "    <tr>\n",
       "      <th>77</th>\n",
       "      <td>Squirrel Hill South</td>\n",
       "      <td>7211.0</td>\n",
       "      <td>332.601864</td>\n",
       "    </tr>\n",
       "    <tr>\n",
       "      <th>13</th>\n",
       "      <td>Brookline</td>\n",
       "      <td>5843.0</td>\n",
       "      <td>327.694980</td>\n",
       "    </tr>\n",
       "    <tr>\n",
       "      <th>9</th>\n",
       "      <td>Bloomfield</td>\n",
       "      <td>4571.0</td>\n",
       "      <td>205.494525</td>\n",
       "    </tr>\n",
       "    <tr>\n",
       "      <th>53</th>\n",
       "      <td>Mount Washington</td>\n",
       "      <td>4385.0</td>\n",
       "      <td>249.523546</td>\n",
       "    </tr>\n",
       "  </tbody>\n",
       "</table>\n",
       "</div>"
      ],
      "text/plain": [
       "           Neighborhood  Estimate; Total:  Margin of Error; Total:\n",
       "68            Shadyside            7484.0               360.919659\n",
       "77  Squirrel Hill South            7211.0               332.601864\n",
       "13            Brookline            5843.0               327.694980\n",
       "9            Bloomfield            4571.0               205.494525\n",
       "53     Mount Washington            4385.0               249.523546"
      ]
     },
     "execution_count": 36,
     "metadata": {},
     "output_type": "execute_result"
    }
   ],
   "source": [
    "greatestEstimates.head(5)"
   ]
  },
  {
   "cell_type": "markdown",
   "metadata": {},
   "source": [
    "The greater estimates tended to have much higher margins of error than the lower estimate, but the difference in margins of error was not significant enough compared to the estimate differences to consider reordering the data. Therefore, I concluded that that the top 5 neighborhoods in terms of estimated wealth are Shadyside, Squirrel Hill South, Brookline, Bloomfield, and Mount Washington."
   ]
  },
  {
   "cell_type": "markdown",
   "metadata": {},
   "source": [
    "----\n",
    "#### Conclusion"
   ]
  },
  {
   "cell_type": "markdown",
   "metadata": {},
   "source": [
    "The metric for our group decided to select was the best neighborhood to commit crime in. Although income and wealth is not directly correlated to crime rates, we decided to use this metric to determine neighborhoods that would be the best to commit crimes such as burglary and robbery in, as these neighborhoods would produce the best yield. \n",
    "\n",
    "Based on my analysis, the top 5 neighborhoods to rob/burgle would be Shadyside, Squirrel Hill South, Brookline, Bloomfield, and Mount Washington, although this data must be taken into consideration with the other two data sets to truly determine the best neighborhoods to rob."
   ]
  },
  {
   "cell_type": "code",
   "execution_count": null,
   "metadata": {},
   "outputs": [],
   "source": []
  }
 ],
 "metadata": {
  "kernelspec": {
   "display_name": "Python 3",
   "language": "python",
   "name": "python3"
  },
  "language_info": {
   "codemirror_mode": {
    "name": "ipython",
    "version": 3
   },
   "file_extension": ".py",
   "mimetype": "text/x-python",
   "name": "python",
   "nbconvert_exporter": "python",
   "pygments_lexer": "ipython3",
   "version": "3.8.3"
  }
 },
 "nbformat": 4,
 "nbformat_minor": 4
}
